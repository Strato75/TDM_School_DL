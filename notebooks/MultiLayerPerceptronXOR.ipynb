{
 "cells": [
  {
   "cell_type": "code",
   "execution_count": 1,
   "metadata": {},
   "outputs": [
    {
     "name": "stdout",
     "output_type": "stream",
     "text": [
      "Populating the interactive namespace from numpy and matplotlib\n"
     ]
    }
   ],
   "source": [
    "%pylab inline"
   ]
  },
  {
   "cell_type": "code",
   "execution_count": 2,
   "metadata": {},
   "outputs": [],
   "source": [
    "from sklearn.model_selection import train_test_split\n",
    "from sklearn.metrics import accuracy_score\n",
    "\n",
    "from tensorflow.keras import models\n",
    "from tensorflow.keras import layers\n",
    "from tensorflow.keras.utils import plot_model"
   ]
  },
  {
   "cell_type": "code",
   "execution_count": 3,
   "metadata": {},
   "outputs": [],
   "source": [
    "def generateDataXor(n_samples):\n",
    "    \"\"\" \n",
    "    generates a 2D linearly separable dataset with n samples. \n",
    "    The third element of the sample is the label\n",
    "    \"\"\"\n",
    "    xb = (rand(n_samples*2, 2)) \n",
    "    \n",
    "    lab = np.zeros(n_samples*2)\n",
    "    \n",
    "    lab[((xb[:,0] < 0.5) & (xb[:,1]>0.5)) | ((xb[:,0]>0.5) & (xb[:,1]<0.5))] = 1\n",
    "    \n",
    "    \n",
    "    return xb, lab \n",
    "\n",
    " \n",
    "def plot_data(net, x_test, y_test, title_str):\n",
    "    fig = figure()\n",
    "    coords_A = x_test[y_test == 1]\n",
    "    coords_B = x_test[y_test != 1]\n",
    "\n",
    "    scatter(coords_A[:,0], coords_A[:,1], c='r', label='Class 1')\n",
    "    scatter(coords_B[:,0], coords_B[:,1], c='b', label='Class 0')\n",
    "\n",
    "    legend()\n",
    "\n",
    "    title(title_str)\n",
    "\n",
    "    return fig\n"
   ]
  },
  {
   "cell_type": "markdown",
   "metadata": {},
   "source": [
    "#### XOR"
   ]
  },
  {
   "cell_type": "code",
   "execution_count": 4,
   "metadata": {},
   "outputs": [],
   "source": [
    "X, y = generateDataXor(100000)\n",
    "x_train, x_test, y_train, y_test = train_test_split(X, y, test_size=0.3)"
   ]
  },
  {
   "cell_type": "code",
   "execution_count": 5,
   "metadata": {
    "scrolled": true
   },
   "outputs": [
    {
     "name": "stdout",
     "output_type": "stream",
     "text": [
      "[1. 1. 1. ... 0. 0. 1.]\n"
     ]
    }
   ],
   "source": [
    "print (y)"
   ]
  },
  {
   "cell_type": "markdown",
   "metadata": {},
   "source": [
    "### Network 1"
   ]
  },
  {
   "cell_type": "code",
   "execution_count": 9,
   "metadata": {},
   "outputs": [
    {
     "name": "stdout",
     "output_type": "stream",
     "text": [
      "Failed to import pydot. You must install pydot and graphviz for `pydotprint` to work.\n",
      "Train on 140000 samples\n",
      "Epoch 1/30\n",
      "140000/140000 [==============================] - 3s 23us/sample - loss: 0.6984 - accuracy: 0.5030\n",
      "Epoch 2/30\n",
      "140000/140000 [==============================] - 3s 19us/sample - loss: 0.6933 - accuracy: 0.4904\n",
      "Epoch 3/30\n",
      "140000/140000 [==============================] - 3s 19us/sample - loss: 0.6933 - accuracy: 0.4867\n",
      "Epoch 4/30\n",
      "140000/140000 [==============================] - 3s 19us/sample - loss: 0.6932 - accuracy: 0.4949\n",
      "Epoch 5/30\n",
      "140000/140000 [==============================] - 3s 18us/sample - loss: 0.6932 - accuracy: 0.4943\n",
      "Epoch 6/30\n",
      "140000/140000 [==============================] - 3s 22us/sample - loss: 0.6932 - accuracy: 0.4810\n",
      "Epoch 7/30\n",
      "140000/140000 [==============================] - 3s 23us/sample - loss: 0.6932 - accuracy: 0.5004\n",
      "Epoch 8/30\n",
      "140000/140000 [==============================] - 3s 19us/sample - loss: 0.6932 - accuracy: 0.4858\n",
      "Epoch 9/30\n",
      "140000/140000 [==============================] - 4s 27us/sample - loss: 0.6932 - accuracy: 0.4983\n",
      "Epoch 10/30\n",
      "140000/140000 [==============================] - 3s 21us/sample - loss: 0.6932 - accuracy: 0.4957\n",
      "Epoch 11/30\n",
      "140000/140000 [==============================] - 3s 21us/sample - loss: 0.6932 - accuracy: 0.4973\n",
      "Epoch 12/30\n",
      "140000/140000 [==============================] - 4s 26us/sample - loss: 0.6932 - accuracy: 0.5098\n",
      "Epoch 13/30\n",
      "140000/140000 [==============================] - 3s 20us/sample - loss: 0.6932 - accuracy: 0.5009\n",
      "Epoch 14/30\n",
      "140000/140000 [==============================] - 4s 26us/sample - loss: 0.6932 - accuracy: 0.5013\n",
      "Epoch 15/30\n",
      "140000/140000 [==============================] - 2s 18us/sample - loss: 0.6932 - accuracy: 0.5002\n",
      "Epoch 16/30\n",
      "140000/140000 [==============================] - 3s 20us/sample - loss: 0.6932 - accuracy: 0.4927\n",
      "Epoch 17/30\n",
      "140000/140000 [==============================] - 3s 21us/sample - loss: 0.6931 - accuracy: 0.4893\n",
      "Epoch 18/30\n",
      "140000/140000 [==============================] - 3s 21us/sample - loss: 0.6931 - accuracy: 0.4553\n",
      "Epoch 19/30\n",
      "140000/140000 [==============================] - 3s 19us/sample - loss: 0.6930 - accuracy: 0.4626\n",
      "Epoch 20/30\n",
      "140000/140000 [==============================] - 2s 16us/sample - loss: 0.6925 - accuracy: 0.4898\n",
      "Epoch 21/30\n",
      "140000/140000 [==============================] - 3s 24us/sample - loss: 0.6902 - accuracy: 0.5127\n",
      "Epoch 22/30\n",
      "140000/140000 [==============================] - 3s 23us/sample - loss: 0.6820 - accuracy: 0.5649\n",
      "Epoch 23/30\n",
      "140000/140000 [==============================] - 3s 24us/sample - loss: 0.6664 - accuracy: 0.6083\n",
      "Epoch 24/30\n",
      "140000/140000 [==============================] - 3s 22us/sample - loss: 0.6462 - accuracy: 0.6303\n",
      "Epoch 25/30\n",
      "140000/140000 [==============================] - 3s 22us/sample - loss: 0.6236 - accuracy: 0.6480\n",
      "Epoch 26/30\n",
      "140000/140000 [==============================] - 3s 22us/sample - loss: 0.5972 - accuracy: 0.6614\n",
      "Epoch 27/30\n",
      "140000/140000 [==============================] - 3s 21us/sample - loss: 0.5660 - accuracy: 0.7095\n",
      "Epoch 28/30\n",
      "140000/140000 [==============================] - 3s 21us/sample - loss: 0.5302 - accuracy: 0.7907\n",
      "Epoch 29/30\n",
      "140000/140000 [==============================] - 3s 21us/sample - loss: 0.4939 - accuracy: 0.8240\n",
      "Epoch 30/30\n",
      "140000/140000 [==============================] - 3s 21us/sample - loss: 0.4609 - accuracy: 0.8311\n",
      "60000/60000 [==============================] - 3s 51us/sample - loss: 0.4467 - accuracy: 0.8332\n"
     ]
    },
    {
     "data": {
      "image/png": "[encoded data removed]",
      "text/plain": [
       "<Figure size 432x288 with 1 Axes>"
      ]
     },
     "metadata": {
      "needs_background": "light"
     },
     "output_type": "display_data"
    },
    {
     "data": {
      "image/png": "[encoded data removed]",
      "text/plain": [
       "<Figure size 432x288 with 1 Axes>"
      ]
     },
     "metadata": {
      "needs_background": "light"
     },
     "output_type": "display_data"
    }
   ],
   "source": [
    "### Multilayer perceprton\n",
    "\n",
    "network = models.Sequential()\n",
    "network.add(layers.Dense(2, activation='sigmoid', input_shape=(2,)))\n",
    "network.add(layers.Dense(1, activation='sigmoid'))\n",
    "\n",
    "network.compile(optimizer='rmsprop',\n",
    "                loss='binary_crossentropy',\n",
    "                metrics=['accuracy'])\n",
    "\n",
    "plot_model(network, to_file='model.png')\n",
    "history = network.fit(x_train, y_train, epochs=30, batch_size=128)\n",
    "ev = network.evaluate(x_test, y_test)\n",
    "\n",
    "figure()\n",
    "plot( history.history['loss'])\n",
    "plot( history.history['accuracy'])\n",
    "\n",
    "y_test_pred = network.predict(x_test)[:, 0]\n",
    "y_test_pred_int = np.round(y_test_pred)\n",
    "fig = plot_data(network, x_test, y_test_pred_int, 'Acc = %.2f' % ev[1])\n",
    "fig.savefig('figures/MLP_n1_xor_train.png', dpi=300)"
   ]
  },
  {
   "cell_type": "markdown",
   "metadata": {},
   "source": [
    "### Network 2"
   ]
  },
  {
   "cell_type": "code",
   "execution_count": 10,
   "metadata": {},
   "outputs": [
    {
     "name": "stdout",
     "output_type": "stream",
     "text": [
      "Failed to import pydot. You must install pydot and graphviz for `pydotprint` to work.\n",
      "Train on 140000 samples\n",
      "Epoch 1/60\n",
      "140000/140000 [==============================] - 4s 32us/sample - loss: 0.7132 - accuracy: 0.5276\n",
      "Epoch 2/60\n",
      "140000/140000 [==============================] - 3s 24us/sample - loss: 0.6889 - accuracy: 0.5651\n",
      "Epoch 3/60\n",
      "140000/140000 [==============================] - 3s 25us/sample - loss: 0.6730 - accuracy: 0.5173\n",
      "Epoch 4/60\n",
      "140000/140000 [==============================] - 3s 24us/sample - loss: 0.6347 - accuracy: 0.5109\n",
      "Epoch 5/60\n",
      "140000/140000 [==============================] - 3s 24us/sample - loss: 0.5892 - accuracy: 0.5107\n",
      "Epoch 6/60\n",
      "140000/140000 [==============================] - 3s 23us/sample - loss: 0.5523 - accuracy: 0.5208\n",
      "Epoch 7/60\n",
      "140000/140000 [==============================] - 3s 23us/sample - loss: 0.5247 - accuracy: 0.5253\n",
      "Epoch 8/60\n",
      "140000/140000 [==============================] - 3s 24us/sample - loss: 0.5045 - accuracy: 0.5335\n",
      "Epoch 9/60\n",
      "140000/140000 [==============================] - 3s 23us/sample - loss: 0.4895 - accuracy: 0.5468\n",
      "Epoch 10/60\n",
      "140000/140000 [==============================] - 3s 22us/sample - loss: 0.4781 - accuracy: 0.5515\n",
      "Epoch 11/60\n",
      "140000/140000 [==============================] - 3s 22us/sample - loss: 0.4692 - accuracy: 0.5593\n",
      "Epoch 12/60\n",
      "140000/140000 [==============================] - 4s 29us/sample - loss: 0.4621 - accuracy: 0.5627\n",
      "Epoch 13/60\n",
      "140000/140000 [==============================] - 4s 27us/sample - loss: 0.4562 - accuracy: 0.5797\n",
      "Epoch 14/60\n",
      "140000/140000 [==============================] - 4s 31us/sample - loss: 0.4515 - accuracy: 0.5916\n",
      "Epoch 15/60\n",
      "140000/140000 [==============================] - 3s 24us/sample - loss: 0.4475 - accuracy: 0.6069\n",
      "Epoch 16/60\n",
      "140000/140000 [==============================] - 4s 28us/sample - loss: 0.4441 - accuracy: 0.5959\n",
      "Epoch 17/60\n",
      "140000/140000 [==============================] - 3s 24us/sample - loss: 0.4412 - accuracy: 0.6047\n",
      "Epoch 18/60\n",
      "140000/140000 [==============================] - 3s 24us/sample - loss: 0.4387 - accuracy: 0.6080\n",
      "Epoch 19/60\n",
      "140000/140000 [==============================] - 3s 23us/sample - loss: 0.4364 - accuracy: 0.6091\n",
      "Epoch 20/60\n",
      "140000/140000 [==============================] - 3s 23us/sample - loss: 0.4344 - accuracy: 0.6127\n",
      "Epoch 21/60\n",
      "140000/140000 [==============================] - 4s 30us/sample - loss: 0.4326 - accuracy: 0.6226\n",
      "Epoch 22/60\n",
      "140000/140000 [==============================] - 3s 24us/sample - loss: 0.4310 - accuracy: 0.6235\n",
      "Epoch 23/60\n",
      "140000/140000 [==============================] - 3s 24us/sample - loss: 0.4296 - accuracy: 0.6295\n",
      "Epoch 24/60\n",
      "140000/140000 [==============================] - 3s 24us/sample - loss: 0.4283 - accuracy: 0.6205\n",
      "Epoch 25/60\n",
      "140000/140000 [==============================] - 3s 24us/sample - loss: 0.4271 - accuracy: 0.6251\n",
      "Epoch 26/60\n",
      "140000/140000 [==============================] - 3s 23us/sample - loss: 0.4260 - accuracy: 0.6302\n",
      "Epoch 27/60\n",
      "140000/140000 [==============================] - 4s 26us/sample - loss: 0.4250 - accuracy: 0.6253\n",
      "Epoch 28/60\n",
      "140000/140000 [==============================] - 4s 27us/sample - loss: 0.4240 - accuracy: 0.6310\n",
      "Epoch 29/60\n",
      "140000/140000 [==============================] - 3s 22us/sample - loss: 0.4231 - accuracy: 0.6340\n",
      "Epoch 30/60\n",
      "140000/140000 [==============================] - 3s 22us/sample - loss: 0.4223 - accuracy: 0.6431\n",
      "Epoch 31/60\n",
      "140000/140000 [==============================] - 3s 22us/sample - loss: 0.4215 - accuracy: 0.6215\n",
      "Epoch 32/60\n",
      "140000/140000 [==============================] - 3s 24us/sample - loss: 0.4208 - accuracy: 0.6401\n",
      "Epoch 33/60\n",
      "140000/140000 [==============================] - 3s 23us/sample - loss: 0.4201 - accuracy: 0.6334\n",
      "Epoch 34/60\n",
      "140000/140000 [==============================] - 3s 22us/sample - loss: 0.4194 - accuracy: 0.6429\n",
      "Epoch 35/60\n",
      "140000/140000 [==============================] - 3s 19us/sample - loss: 0.4188 - accuracy: 0.6399\n",
      "Epoch 36/60\n",
      "140000/140000 [==============================] - 3s 19us/sample - loss: 0.4183 - accuracy: 0.6373\n",
      "Epoch 37/60\n",
      "140000/140000 [==============================] - 2s 16us/sample - loss: 0.4176 - accuracy: 0.6443\n",
      "Epoch 38/60\n",
      "140000/140000 [==============================] - 2s 16us/sample - loss: 0.4172 - accuracy: 0.6428\n",
      "Epoch 39/60\n",
      "140000/140000 [==============================] - 2s 16us/sample - loss: 0.4166 - accuracy: 0.6470\n",
      "Epoch 40/60\n",
      "140000/140000 [==============================] - 3s 19us/sample - loss: 0.4161 - accuracy: 0.6501\n",
      "Epoch 41/60\n",
      "140000/140000 [==============================] - 2s 16us/sample - loss: 0.4157 - accuracy: 0.6476\n",
      "Epoch 42/60\n",
      "140000/140000 [==============================] - 2s 17us/sample - loss: 0.4152 - accuracy: 0.6478\n",
      "Epoch 43/60\n",
      "140000/140000 [==============================] - 2s 16us/sample - loss: 0.4148 - accuracy: 0.6428\n",
      "Epoch 44/60\n",
      "140000/140000 [==============================] - 2s 15us/sample - loss: 0.4144 - accuracy: 0.6500\n",
      "Epoch 45/60\n",
      "140000/140000 [==============================] - 2s 18us/sample - loss: 0.4140 - accuracy: 0.6484\n",
      "Epoch 46/60\n",
      "140000/140000 [==============================] - 3s 21us/sample - loss: 0.4136 - accuracy: 0.6470\n",
      "Epoch 47/60\n",
      "140000/140000 [==============================] - 3s 21us/sample - loss: 0.4132 - accuracy: 0.6527\n",
      "Epoch 48/60\n",
      "140000/140000 [==============================] - 3s 23us/sample - loss: 0.4129 - accuracy: 0.6595\n",
      "Epoch 49/60\n",
      "140000/140000 [==============================] - 2s 16us/sample - loss: 0.4126 - accuracy: 0.6469\n",
      "Epoch 50/60\n",
      "140000/140000 [==============================] - 2s 16us/sample - loss: 0.4122 - accuracy: 0.6572\n",
      "Epoch 51/60\n",
      "140000/140000 [==============================] - 2s 15us/sample - loss: 0.4119 - accuracy: 0.6481\n",
      "Epoch 52/60\n",
      "140000/140000 [==============================] - 3s 22us/sample - loss: 0.4117 - accuracy: 0.6506\n",
      "Epoch 53/60\n",
      "140000/140000 [==============================] - 3s 20us/sample - loss: 0.4113 - accuracy: 0.6538\n",
      "Epoch 54/60\n",
      "140000/140000 [==============================] - 2s 16us/sample - loss: 0.4111 - accuracy: 0.6569\n",
      "Epoch 55/60\n",
      "140000/140000 [==============================] - 2s 15us/sample - loss: 0.4108 - accuracy: 0.6529\n",
      "Epoch 56/60\n",
      "140000/140000 [==============================] - 2s 16us/sample - loss: 0.4105 - accuracy: 0.6621\n",
      "Epoch 57/60\n",
      "140000/140000 [==============================] - 2s 17us/sample - loss: 0.4103 - accuracy: 0.6553\n",
      "Epoch 58/60\n",
      "140000/140000 [==============================] - 2s 15us/sample - loss: 0.4100 - accuracy: 0.6507\n",
      "Epoch 59/60\n",
      "140000/140000 [==============================] - 3s 18us/sample - loss: 0.4098 - accuracy: 0.6604\n",
      "Epoch 60/60\n",
      "140000/140000 [==============================] - 3s 19us/sample - loss: 0.4095 - accuracy: 0.6572\n",
      "60000/60000 [==============================] - 2s 39us/sample - loss: 0.4114 - accuracy: 0.6914\n"
     ]
    },
    {
     "data": {
      "image/png": "[encoded data removed]",
      "text/plain": [
       "<Figure size 432x288 with 1 Axes>"
      ]
     },
     "metadata": {
      "needs_background": "light"
     },
     "output_type": "display_data"
    },
    {
     "data": {
      "image/png": "[encoded data removed]",
      "text/plain": [
       "<Figure size 432x288 with 1 Axes>"
      ]
     },
     "metadata": {
      "needs_background": "light"
     },
     "output_type": "display_data"
    }
   ],
   "source": [
    "### Multilayer perceprton\n",
    "\n",
    "network = models.Sequential()\n",
    "network.add(layers.Dense(2, activation='sigmoid', input_shape=(2,)))\n",
    "network.add(layers.Dense(4, activation='sigmoid'))\n",
    "network.add(layers.Dense(1, activation='sigmoid'))\n",
    "\n",
    "network.compile(optimizer='rmsprop',\n",
    "                loss='binary_crossentropy',\n",
    "                metrics=['accuracy'])\n",
    "\n",
    "plot_model(network, to_file='model.png')\n",
    "history = network.fit(x_train, y_train, epochs=60, batch_size=128)\n",
    "ev = network.evaluate(x_test, y_test)\n",
    "\n",
    "figure()\n",
    "plot( history.history['loss'])\n",
    "plot( history.history['accuracy'])\n",
    "\n",
    "y_test_pred = network.predict(x_test)[:, 0]\n",
    "y_test_pred_int = np.round(y_test_pred)\n",
    "fig = plot_data(network, x_test, y_test_pred_int, 'Acc = %.2f' % ev[1])\n",
    "fig.savefig('figures/MLP_n2_xor_train.png', dpi=300)"
   ]
  },
  {
   "cell_type": "markdown",
   "metadata": {},
   "source": [
    "### Network 3"
   ]
  },
  {
   "cell_type": "code",
   "execution_count": 11,
   "metadata": {
    "scrolled": true
   },
   "outputs": [
    {
     "name": "stdout",
     "output_type": "stream",
     "text": [
      "Failed to import pydot. You must install pydot and graphviz for `pydotprint` to work.\n",
      "Train on 140000 samples\n",
      "Epoch 1/30\n",
      "140000/140000 [==============================] - 3s 20us/sample - loss: 0.6948 - accuracy: 0.5033\n",
      "Epoch 2/30\n",
      "140000/140000 [==============================] - 2s 16us/sample - loss: 0.6931 - accuracy: 0.5052\n",
      "Epoch 3/30\n",
      "140000/140000 [==============================] - 2s 16us/sample - loss: 0.6924 - accuracy: 0.5248\n",
      "Epoch 4/30\n",
      "140000/140000 [==============================] - 2s 16us/sample - loss: 0.6879 - accuracy: 0.5707\n",
      "Epoch 5/30\n",
      "140000/140000 [==============================] - 2s 16us/sample - loss: 0.6598 - accuracy: 0.6232\n",
      "Epoch 6/30\n",
      "140000/140000 [==============================] - 2s 16us/sample - loss: 0.5958 - accuracy: 0.6593\n",
      "Epoch 7/30\n",
      "140000/140000 [==============================] - 2s 17us/sample - loss: 0.4851 - accuracy: 0.7906\n",
      "Epoch 8/30\n",
      "140000/140000 [==============================] - 2s 18us/sample - loss: 0.3925 - accuracy: 0.8318\n",
      "Epoch 9/30\n",
      "140000/140000 [==============================] - 3s 20us/sample - loss: 0.3707 - accuracy: 0.8329\n",
      "Epoch 10/30\n",
      "140000/140000 [==============================] - 4s 30us/sample - loss: 0.3654 - accuracy: 0.8336\n",
      "Epoch 11/30\n",
      "140000/140000 [==============================] - 3s 20us/sample - loss: 0.3633 - accuracy: 0.8341\n",
      "Epoch 12/30\n",
      "140000/140000 [==============================] - 3s 20us/sample - loss: 0.3620 - accuracy: 0.8342\n",
      "Epoch 13/30\n",
      "140000/140000 [==============================] - 3s 20us/sample - loss: 0.3610 - accuracy: 0.8346\n",
      "Epoch 14/30\n",
      "140000/140000 [==============================] - 3s 20us/sample - loss: 0.3602 - accuracy: 0.8347\n",
      "Epoch 15/30\n",
      "140000/140000 [==============================] - 3s 20us/sample - loss: 0.3592 - accuracy: 0.8352\n",
      "Epoch 16/30\n",
      "140000/140000 [==============================] - 3s 20us/sample - loss: 0.3581 - accuracy: 0.8356\n",
      "Epoch 17/30\n",
      "140000/140000 [==============================] - 3s 20us/sample - loss: 0.3569 - accuracy: 0.8361\n",
      "Epoch 18/30\n",
      "140000/140000 [==============================] - 3s 20us/sample - loss: 0.3553 - accuracy: 0.8371\n",
      "Epoch 19/30\n",
      "140000/140000 [==============================] - 3s 20us/sample - loss: 0.3535 - accuracy: 0.8376\n",
      "Epoch 20/30\n",
      "140000/140000 [==============================] - 3s 20us/sample - loss: 0.3512 - accuracy: 0.8393\n",
      "Epoch 21/30\n",
      "140000/140000 [==============================] - 3s 20us/sample - loss: 0.3486 - accuracy: 0.8404\n",
      "Epoch 22/30\n",
      "140000/140000 [==============================] - 3s 20us/sample - loss: 0.3452 - accuracy: 0.8424\n",
      "Epoch 23/30\n",
      "140000/140000 [==============================] - 3s 20us/sample - loss: 0.3410 - accuracy: 0.8447\n",
      "Epoch 24/30\n",
      "140000/140000 [==============================] - 3s 21us/sample - loss: 0.3358 - accuracy: 0.8471\n",
      "Epoch 25/30\n",
      "140000/140000 [==============================] - 3s 23us/sample - loss: 0.3292 - accuracy: 0.8511\n",
      "Epoch 26/30\n",
      "140000/140000 [==============================] - 3s 21us/sample - loss: 0.3205 - accuracy: 0.8559\n",
      "Epoch 27/30\n",
      "140000/140000 [==============================] - 3s 20us/sample - loss: 0.3076 - accuracy: 0.8627\n",
      "Epoch 28/30\n",
      "140000/140000 [==============================] - 3s 20us/sample - loss: 0.2900 - accuracy: 0.8722\n",
      "Epoch 29/30\n",
      "140000/140000 [==============================] - 3s 20us/sample - loss: 0.2694 - accuracy: 0.8832\n",
      "Epoch 30/30\n",
      "140000/140000 [==============================] - 3s 20us/sample - loss: 0.2458 - accuracy: 0.8944\n",
      "60000/60000 [==============================] - 3s 47us/sample - loss: 0.2293 - accuracy: 0.9014\n"
     ]
    },
    {
     "data": {
      "image/png": "[encoded data removed]",
      "text/plain": [
       "<Figure size 432x288 with 1 Axes>"
      ]
     },
     "metadata": {
      "needs_background": "light"
     },
     "output_type": "display_data"
    },
    {
     "data": {
      "image/png": "[encoded data removed]",
      "text/plain": [
       "<Figure size 432x288 with 1 Axes>"
      ]
     },
     "metadata": {
      "needs_background": "light"
     },
     "output_type": "display_data"
    }
   ],
   "source": [
    "### Multilayer perceprton\n",
    "\n",
    "network = models.Sequential()\n",
    "network.add(layers.Dense(4, activation='sigmoid', input_shape=(2,)))\n",
    "network.add(layers.Dense(8, activation='sigmoid'))\n",
    "network.add(layers.Dense(8, activation='sigmoid'))\n",
    "network.add(layers.Dense(1, activation='sigmoid'))\n",
    "\n",
    "network.compile(optimizer='rmsprop',\n",
    "                loss='binary_crossentropy',\n",
    "                metrics=['accuracy'])\n",
    "\n",
    "plot_model(network, to_file='model.png')\n",
    "history = network.fit(x_train, y_train, epochs=30, batch_size=128)\n",
    "ev = network.evaluate(x_test, y_test)\n",
    "\n",
    "figure()\n",
    "plot( history.history['loss'])\n",
    "plot( history.history['accuracy'])\n",
    "\n",
    "y_test_pred = network.predict(x_test)[:, 0]\n",
    "y_test_pred_int = np.round(y_test_pred)\n",
    "fig = plot_data(network, x_test, y_test_pred_int, 'Acc = %.2f' % ev[1])\n",
    "fig.savefig('figures/MLP_n3_xor_train.png', dpi=300)"
   ]
  },
  {
   "cell_type": "code",
   "execution_count": null,
   "metadata": {},
   "outputs": [],
   "source": []
  }
 ],
 "metadata": {
  "kernelspec": {
   "display_name": "python3-stat-ML-tf",
   "language": "python",
   "name": "python3-stat-ml-tf"
  },
  "language_info": {
   "codemirror_mode": {
    "name": "ipython",
    "version": 3
   },
   "file_extension": ".py",
   "mimetype": "text/x-python",
   "name": "python",
   "nbconvert_exporter": "python",
   "pygments_lexer": "ipython3",
   "version": "3.7.5"
  }
 },
 "nbformat": 4,
 "nbformat_minor": 2
}
